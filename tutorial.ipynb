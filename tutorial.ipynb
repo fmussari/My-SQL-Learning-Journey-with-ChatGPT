{
 "cells": [
  {
   "attachments": {},
   "cell_type": "markdown",
   "metadata": {},
   "source": [
    "## 3. Setting up Chinook SQLite"
   ]
  },
  {
   "cell_type": "code",
   "execution_count": 2,
   "metadata": {},
   "outputs": [
    {
     "name": "stdout",
     "output_type": "stream",
     "text": [
      "('Album',)\n",
      "('Artist',)\n",
      "('Customer',)\n",
      "('Employee',)\n",
      "('Genre',)\n",
      "('Invoice',)\n",
      "('InvoiceLine',)\n",
      "('MediaType',)\n",
      "('Playlist',)\n",
      "('PlaylistTrack',)\n",
      "('Track',)\n"
     ]
    }
   ],
   "source": [
    "import sqlite3\n",
    "\n",
    "# Create a connection to the Chinook database\n",
    "path_to_database = 'Chinook_Sqlite.sqlite'\n",
    "conn = sqlite3.connect(path_to_database)\n",
    "\n",
    "# Create a cursor object to execute queries\n",
    "cursor = conn.cursor()\n",
    "\n",
    "# Execute a SELECT query to retrieve all tracks\n",
    "# query = \"SELECT * FROM tracks\"\n",
    "query = \"SELECT name FROM sqlite_schema WHERE type='table' ORDER BY name\"\n",
    "cursor.execute(query)\n",
    "\n",
    "# Fetch all the results and print them\n",
    "results = cursor.fetchall()\n",
    "for row in results:\n",
    "    print(row)"
   ]
  },
  {
   "cell_type": "code",
   "execution_count": null,
   "metadata": {},
   "outputs": [],
   "source": []
  }
 ],
 "metadata": {
  "kernelspec": {
   "display_name": "base",
   "language": "python",
   "name": "python3"
  },
  "language_info": {
   "codemirror_mode": {
    "name": "ipython",
    "version": 3
   },
   "file_extension": ".py",
   "mimetype": "text/x-python",
   "name": "python",
   "nbconvert_exporter": "python",
   "pygments_lexer": "ipython3",
   "version": "3.10.9"
  },
  "orig_nbformat": 4
 },
 "nbformat": 4,
 "nbformat_minor": 2
}
